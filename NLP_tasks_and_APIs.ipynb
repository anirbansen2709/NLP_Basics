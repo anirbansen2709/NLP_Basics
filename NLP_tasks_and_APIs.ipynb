{
  "nbformat": 4,
  "nbformat_minor": 0,
  "metadata": {
    "colab": {
      "name": "NLP tasks and APIs.ipynb",
      "provenance": [],
      "collapsed_sections": [],
      "toc_visible": true,
      "authorship_tag": "ABX9TyP068bJveuFLbYnCWGpDOaW",
      "include_colab_link": true
    },
    "kernelspec": {
      "display_name": "Python 3",
      "name": "python3"
    }
  },
  "cells": [
    {
      "cell_type": "markdown",
      "metadata": {
        "id": "view-in-github",
        "colab_type": "text"
      },
      "source": [
        "<a href=\"https://colab.research.google.com/github/anirbansen3027/NLP_Basics/blob/main/NLP_tasks_and_APIs.ipynb\" target=\"_parent\"><img src=\"https://colab.research.google.com/assets/colab-badge.svg\" alt=\"Open In Colab\"/></a>"
      ]
    },
    {
      "cell_type": "markdown",
      "metadata": {
        "id": "wTA7VDamI38z"
      },
      "source": [
        "## 1. Keyphrase Extraction - spacy(textacy)"
      ]
    },
    {
      "cell_type": "code",
      "metadata": {
        "id": "YJ9tZZv8IoYk"
      },
      "source": [
        "! pip install textacy -q"
      ],
      "execution_count": null,
      "outputs": []
    },
    {
      "cell_type": "code",
      "metadata": {
        "id": "H6OJqV6iJUg8"
      },
      "source": [
        "import spacy\n",
        "import textacy.ke\n",
        "from textacy import *\n",
        "\n",
        "en = textacy.load_spacy_lang(\"en_core_web_sm\")"
      ],
      "execution_count": null,
      "outputs": []
    },
    {
      "cell_type": "code",
      "metadata": {
        "id": "mDCNIfH1JqED"
      },
      "source": [
        "my_text = open(\"/content/nlphistory.txt\").read()\n",
        "doc = textacy.make_spacy_doc(my_text, lang = en)"
      ],
      "execution_count": null,
      "outputs": []
    },
    {
      "cell_type": "code",
      "metadata": {
        "colab": {
          "base_uri": "https://localhost:8080/"
        },
        "id": "nU2RAX4iLBgC",
        "outputId": "0e8a9672-b907-4957-b12b-90d98b8a3caa"
      },
      "source": [
        "terms = [term for term, weight in textacy.ke.textrank(doc)]\n",
        "terms[:5]"
      ],
      "execution_count": null,
      "outputs": [
        {
          "output_type": "execute_result",
          "data": {
            "text/plain": [
              "['successful natural language processing system',\n",
              " 'statistical machine translation system',\n",
              " 'natural language system',\n",
              " 'statistical natural language processing',\n",
              " 'natural language task']"
            ]
          },
          "metadata": {
            "tags": []
          },
          "execution_count": 49
        }
      ]
    },
    {
      "cell_type": "markdown",
      "metadata": {
        "id": "K9n0mV8KLhd0"
      },
      "source": [
        "## 2. Language Detection & Translation - google_trans_new | textblob"
      ]
    },
    {
      "cell_type": "code",
      "metadata": {
        "id": "KqiM7c1CLf5U"
      },
      "source": [
        "! pip install google_trans_new -q"
      ],
      "execution_count": null,
      "outputs": []
    },
    {
      "cell_type": "code",
      "metadata": {
        "colab": {
          "base_uri": "https://localhost:8080/"
        },
        "id": "a61C-YIUL6eF",
        "outputId": "52abe039-f814-4ca7-b94d-5bbfe5f45f6e"
      },
      "source": [
        "from textblob import TextBlob\n",
        "from google_trans_new import google_translator\n",
        "translator = google_translator()\n",
        "from google_trans_new import LANGUAGES\n",
        "len(LANGUAGES)"
      ],
      "execution_count": null,
      "outputs": [
        {
          "output_type": "execute_result",
          "data": {
            "text/plain": [
              "108"
            ]
          },
          "metadata": {
            "tags": []
          },
          "execution_count": 51
        }
      ]
    },
    {
      "cell_type": "code",
      "metadata": {
        "colab": {
          "base_uri": "https://localhost:8080/"
        },
        "id": "GlTu0vISL_1g",
        "outputId": "33633d40-9f18-41dc-a6d6-53fa8b47cf20"
      },
      "source": [
        "#Hindi Sentence Detection\n",
        "# Detect the blob’s language using the Google Translate API.\n",
        "# Requires an internet connection.\n",
        "hi_blob = TextBlob(u'तुम्हारा नाम क्या है')\n",
        "print(hi_blob.detect_language())\n",
        "print(hi_blob.translate(to='en'))"
      ],
      "execution_count": null,
      "outputs": [
        {
          "output_type": "stream",
          "text": [
            "hi\n",
            "What is your name\n"
          ],
          "name": "stdout"
        }
      ]
    },
    {
      "cell_type": "code",
      "metadata": {
        "colab": {
          "base_uri": "https://localhost:8080/"
        },
        "id": "C012TgO_MNai",
        "outputId": "c7bb1145-257b-4173-f86a-b688ff2f8aca"
      },
      "source": [
        "#German Detection\n",
        "de_blob = TextBlob(u\"Maschinelles Lernen ist ein interessantes Thema zum Lernen\")\n",
        "print(de_blob.detect_language())\n",
        "print(de_blob.translate(to='en'))"
      ],
      "execution_count": null,
      "outputs": [
        {
          "output_type": "stream",
          "text": [
            "de\n",
            "Machine learning is an interesting topic to learn\n"
          ],
          "name": "stdout"
        }
      ]
    },
    {
      "cell_type": "code",
      "metadata": {
        "colab": {
          "base_uri": "https://localhost:8080/"
        },
        "id": "1ydjz2LPMSAU",
        "outputId": "217f0ccf-ec28-48a0-b993-078440e60ada"
      },
      "source": [
        "print(translator.translate(u'तुम्हारा नाम क्या है'))\n",
        "print(translator.translate(u'التعلم الآلي هو موضوع مثير للاهتمام للتعلم'))"
      ],
      "execution_count": null,
      "outputs": [
        {
          "output_type": "stream",
          "text": [
            "What is your name \n",
            "Machine learning is an interesting topic to learn \n"
          ],
          "name": "stdout"
        }
      ]
    },
    {
      "cell_type": "code",
      "metadata": {
        "colab": {
          "base_uri": "https://localhost:8080/"
        },
        "id": "IsAbPJgWMYRs",
        "outputId": "2dbafeec-bae3-4511-e444-3949600c6944"
      },
      "source": [
        "translator.detect(\"Les livres sont les meilleurs amis de l'homme\")"
      ],
      "execution_count": null,
      "outputs": [
        {
          "output_type": "execute_result",
          "data": {
            "text/plain": [
              "['fr', 'french']"
            ]
          },
          "metadata": {
            "tags": []
          },
          "execution_count": 55
        }
      ]
    },
    {
      "cell_type": "markdown",
      "metadata": {
        "id": "F2JWLSv9MyVV"
      },
      "source": [
        "##  3. Spelling Correction - symspellpy"
      ]
    },
    {
      "cell_type": "code",
      "metadata": {
        "colab": {
          "base_uri": "https://localhost:8080/"
        },
        "id": "qEK7_DOENxjb",
        "outputId": "e01053a6-3520-46f8-d744-a239bc94e615"
      },
      "source": [
        "! pip install symspellpy"
      ],
      "execution_count": null,
      "outputs": [
        {
          "output_type": "stream",
          "text": [
            "Requirement already satisfied: symspellpy in /usr/local/lib/python3.7/dist-packages (6.7.0)\n",
            "Requirement already satisfied: numpy>=1.13.1 in /usr/local/lib/python3.7/dist-packages (from symspellpy) (1.19.5)\n"
          ],
          "name": "stdout"
        }
      ]
    },
    {
      "cell_type": "code",
      "metadata": {
        "colab": {
          "base_uri": "https://localhost:8080/"
        },
        "id": "d5C5o1cLMwtD",
        "outputId": "faba218e-b801-4381-f70b-e3fbddd386c8"
      },
      "source": [
        "import pkg_resources\n",
        "from symspellpy import SymSpell, Verbosity\n",
        "\n",
        "sym_spell = SymSpell(max_dictionary_edit_distance=2, prefix_length=7)\n",
        "dictionary_path = pkg_resources.resource_filename(\n",
        "    \"symspellpy\", \"frequency_dictionary_en_82_765.txt\")\n",
        "# term_index is the column of the term and count_index is the\n",
        "# column of the term frequency\n",
        "sym_spell.load_dictionary(dictionary_path, term_index=0, count_index=1)\n",
        "\n",
        "# lookup suggestions for single-word input strings\n",
        "input_term = \"memeebers\"  # misspelling of \"members\"\n",
        "\n",
        "# max edit distance per lookup\n",
        "# (max_edit_distance_lookup <= max_dictionary_edit_distance)\n",
        "suggestions = sym_spell.lookup(input_term, Verbosity.CLOSEST,\n",
        "                               max_edit_distance=2)\n",
        "# display suggestion term, edit distance and term frequency\n",
        "for suggestion in suggestions:\n",
        "    print(suggestion)"
      ],
      "execution_count": null,
      "outputs": [
        {
          "output_type": "stream",
          "text": [
            "members, 2, 226656153\n",
            "remembers, 2, 2102056\n"
          ],
          "name": "stdout"
        }
      ]
    },
    {
      "cell_type": "markdown",
      "metadata": {
        "id": "avmRMhWxQBsN"
      },
      "source": [
        "## 4. Named Entity Recognition - spacy"
      ]
    },
    {
      "cell_type": "code",
      "metadata": {
        "colab": {
          "base_uri": "https://localhost:8080/"
        },
        "id": "oejeIlNZP85k",
        "outputId": "aafb0d47-7a94-4225-97e1-b932d5bbdffa"
      },
      "source": [
        "import spacy\n",
        "nlp = spacy.load(\"en_core_web_sm\")\n",
        "text_from_fig = \"On Tuesday, Apple announced its plans for another major chunk of the money: It will buy back a further $75 billion in stock.\"\n",
        "doc = nlp(text_from_fig)\n",
        "\n",
        "for ent in doc.ents:\n",
        "  if ent.text:\n",
        "    print(ent.text, \"\\t\", ent.label_)"
      ],
      "execution_count": null,
      "outputs": [
        {
          "output_type": "stream",
          "text": [
            "Tuesday \t DATE\n",
            "Apple \t ORG\n",
            "$75 billion \t MONEY\n"
          ],
          "name": "stdout"
        }
      ]
    },
    {
      "cell_type": "markdown",
      "metadata": {
        "id": "WcMem6ByYoKZ"
      },
      "source": [
        "Models trained on the OntoNotes 5 corpus support the following entity types: \n",
        "* PERSON\tPeople, including fictional\n",
        "* NORP\tNationalities or religious or political groups.\n",
        "* FAC\tBuildings, airports, highways, bridges, etc.\n",
        "* ORG\tCompanies, agencies, institutions, etc.\n",
        "* GPE\tCountries, cities, states.\n",
        "* LOC\tNon-GPE locations, mountain ranges, bodies of water.\n",
        "* PRODUCT\tObjects, vehicles, foods, etc. (Not services.)\n",
        "* EVENT\tNamed hurricanes, battles, wars, sports events, etc.\n",
        "* WORK_OF_ART\tTitles of books, songs, etc.\n",
        "* LAW\tNamed documents made into laws.\n",
        "* LANGUAGE\tAny named language.\n",
        "* DATE\tAbsolute or relative dates or periods.\n",
        "* TIME\tTimes smaller than a day.\n",
        "* PERCENT\tPercentage, including ”%“.\n",
        "* MONEY\tMonetary values, including unit.\n",
        "* QUANTITY\tMeasurements, as of weight or distance.\n",
        "* ORDINAL\t“first”, “second”, etc.\n",
        "* CARDINAL \tNumerals that do not fall under another type.\n",
        "\n"
      ]
    },
    {
      "cell_type": "markdown",
      "metadata": {
        "id": "Z3F4OBEQkT7H"
      },
      "source": [
        "##  5. Part of Speech Tagging - NLTK "
      ]
    },
    {
      "cell_type": "markdown",
      "metadata": {
        "id": "8lj4vf1dmaki"
      },
      "source": [
        "* Tag\t| Meaning\t| English Examples\n",
        "* CC | coordinating conjunction\n",
        "* CD | cardinal digit\n",
        "* DT | determiner\n",
        "* EX | existential | there (like: “there is” … think of it like “there exists”)\n",
        "* FW | foreign word\n",
        "* IN | preposition/subordinating conjunction\n",
        "* JJ | adjective |‘big’\n",
        "* JJR | adjective, comparative | ‘bigger’\n",
        "* JJS | adjective, superlative | ‘biggest’\n",
        "* LS |list marker | 1)\n",
        "* MD | modal | could, will\n",
        "* NN | noun, singular | ‘desk’\n",
        "* NNS | noun plural | ‘desks’\n",
        "* NNP | proper noun, singular | ‘Harrison’\n",
        "* NNPS | proper noun, plural | ‘Americans’\n",
        "* PDT | predeterminer | ‘all the kids’\n",
        "* POS | possessive ending | parent‘s\n",
        "* PRP | personal pronoun | I, he, she\n",
        "* PRP\\$ | possessive pronoun | my, his, hers\n",
        "* RB | adverb | very, silently,\n",
        "* RBR |adverb, comparative | better\n",
        "* RBS | adverb, superlative | best\n",
        "* RP | particle |give up\n",
        "* TO | to go ‘to‘ the store.\n",
        "* UH | interjection | errrrrrrrm\n",
        "* VB | verb, base form | take\n",
        "* VBD | verb, past tense | took\n",
        "* VBG | verb, gerund/present participle | taking\n",
        "* VBN | verb, past participle | taken\n",
        "* VBP | verb, sing. present, non-3d | take\n",
        "* VBZ | verb, 3rd person | sing. present takes\n",
        "* WDT | wh-determiner | which\n",
        "* WP | wh-pronoun | who, what\n",
        "* WP\\$ | possessive wh-pronoun | whose\n",
        "* WRB | wh-abverb | where, when"
      ]
    },
    {
      "cell_type": "code",
      "metadata": {
        "colab": {
          "base_uri": "https://localhost:8080/"
        },
        "id": "jg8RJ5VbkekT",
        "outputId": "3140eabf-4e92-4e17-c693-1627ac75ca01"
      },
      "source": [
        "import nltk\n",
        "nltk.download('averaged_perceptron_tagger')\n",
        "nltk.download('averaged_perceptron_tagger_ru')\n",
        "from nltk import pos_tag, word_tokenize"
      ],
      "execution_count": null,
      "outputs": [
        {
          "output_type": "stream",
          "text": [
            "[nltk_data] Downloading package averaged_perceptron_tagger to\n",
            "[nltk_data]     /root/nltk_data...\n",
            "[nltk_data]   Package averaged_perceptron_tagger is already up-to-\n",
            "[nltk_data]       date!\n",
            "[nltk_data] Downloading package averaged_perceptron_tagger_ru to\n",
            "[nltk_data]     /root/nltk_data...\n",
            "[nltk_data]   Package averaged_perceptron_tagger_ru is already up-to-\n",
            "[nltk_data]       date!\n"
          ],
          "name": "stdout"
        }
      ]
    },
    {
      "cell_type": "code",
      "metadata": {
        "colab": {
          "base_uri": "https://localhost:8080/"
        },
        "id": "OZ7fCAxFlNND",
        "outputId": "63937956-2e81-4f7c-9b89-593f39cd29eb"
      },
      "source": [
        "pos_tag(word_tokenize(\"John's big idea isn't all that bad.\"))"
      ],
      "execution_count": null,
      "outputs": [
        {
          "output_type": "execute_result",
          "data": {
            "text/plain": [
              "[('John', 'NNP'),\n",
              " (\"'s\", 'POS'),\n",
              " ('big', 'JJ'),\n",
              " ('idea', 'NN'),\n",
              " ('is', 'VBZ'),\n",
              " (\"n't\", 'RB'),\n",
              " ('all', 'PDT'),\n",
              " ('that', 'DT'),\n",
              " ('bad', 'JJ'),\n",
              " ('.', '.')]"
            ]
          },
          "metadata": {
            "tags": []
          },
          "execution_count": 60
        }
      ]
    },
    {
      "cell_type": "code",
      "metadata": {
        "colab": {
          "base_uri": "https://localhost:8080/"
        },
        "id": "_puvazpblOzl",
        "outputId": "81e6270c-618f-4f7a-b4ae-b69eb9230fd6"
      },
      "source": [
        "pos_tag(word_tokenize(\"Илья оторопел и дважды перечитал бумажку.\"), lang='rus')  "
      ],
      "execution_count": null,
      "outputs": [
        {
          "output_type": "execute_result",
          "data": {
            "text/plain": [
              "[('Илья', 'S'),\n",
              " ('оторопел', 'V'),\n",
              " ('и', 'CONJ'),\n",
              " ('дважды', 'ADV'),\n",
              " ('перечитал', 'V'),\n",
              " ('бумажку', 'S'),\n",
              " ('.', 'NONLEX')]"
            ]
          },
          "metadata": {
            "tags": []
          },
          "execution_count": 61
        }
      ]
    },
    {
      "cell_type": "markdown",
      "metadata": {
        "id": "fyLvpfHmlvyz"
      },
      "source": [
        " ## 6. Automatic Speech Recognition"
      ]
    },
    {
      "cell_type": "code",
      "metadata": {
        "id": "L4ihDHiUlsCT"
      },
      "source": [
        ""
      ],
      "execution_count": null,
      "outputs": []
    },
    {
      "cell_type": "markdown",
      "metadata": {
        "id": "LUf3YQHqneIi"
      },
      "source": [
        "## 7. Temporal Information Extraction | Duckling"
      ]
    },
    {
      "cell_type": "code",
      "metadata": {
        "colab": {
          "base_uri": "https://localhost:8080/"
        },
        "id": "e4DN56rzn_oD",
        "outputId": "5f920322-d045-46fe-9259-7d406ed02b55"
      },
      "source": [
        "#installing the package\n",
        "!pip install JPype1==0.7.4 #This is required as duckling is not compatible with recent versions of JPype. \n",
        "!pip install duckling==1.8.0"
      ],
      "execution_count": null,
      "outputs": [
        {
          "output_type": "stream",
          "text": [
            "Requirement already satisfied: JPype1==0.7.4 in /usr/local/lib/python3.7/dist-packages (0.7.4)\n",
            "Requirement already satisfied: duckling==1.8.0 in /usr/local/lib/python3.7/dist-packages (1.8.0)\n",
            "Requirement already satisfied: python-dateutil in /usr/local/lib/python3.7/dist-packages (from duckling==1.8.0) (2.8.1)\n",
            "Requirement already satisfied: JPype1 in /usr/local/lib/python3.7/dist-packages (from duckling==1.8.0) (0.7.4)\n",
            "Requirement already satisfied: six in /usr/local/lib/python3.7/dist-packages (from duckling==1.8.0) (1.15.0)\n"
          ],
          "name": "stdout"
        }
      ]
    },
    {
      "cell_type": "code",
      "metadata": {
        "id": "RNhqeSs_nrIe"
      },
      "source": [
        "from duckling import DucklingWrapper\n",
        "from pprint import pprint"
      ],
      "execution_count": null,
      "outputs": []
    },
    {
      "cell_type": "code",
      "metadata": {
        "colab": {
          "base_uri": "https://localhost:8080/",
          "height": 323
        },
        "id": "GNw-AI3boa7E",
        "outputId": "db25671f-ae2e-4b07-c820-8c4c789cf9b1"
      },
      "source": [
        "d = DucklingWrapper()\n",
        "result = d.parse(u'You owe me twenty bucks, please call me today')"
      ],
      "execution_count": null,
      "outputs": [
        {
          "output_type": "error",
          "ename": "TypeError",
          "evalue": "ignored",
          "traceback": [
            "\u001b[0;31m---------------------------------------------------------------------------\u001b[0m",
            "\u001b[0;31mTypeError\u001b[0m                                 Traceback (most recent call last)",
            "\u001b[0;32m<ipython-input-79-110533c1b516>\u001b[0m in \u001b[0;36m<module>\u001b[0;34m()\u001b[0m\n\u001b[1;32m      1\u001b[0m \u001b[0md\u001b[0m \u001b[0;34m=\u001b[0m \u001b[0mDucklingWrapper\u001b[0m\u001b[0;34m(\u001b[0m\u001b[0;34m)\u001b[0m\u001b[0;34m\u001b[0m\u001b[0;34m\u001b[0m\u001b[0m\n\u001b[0;32m----> 2\u001b[0;31m \u001b[0mresult\u001b[0m \u001b[0;34m=\u001b[0m \u001b[0md\u001b[0m\u001b[0;34m.\u001b[0m\u001b[0mparse\u001b[0m\u001b[0;34m(\u001b[0m\u001b[0;34mu'You owe me twenty bucks, please call me today'\u001b[0m\u001b[0;34m)\u001b[0m\u001b[0;34m\u001b[0m\u001b[0;34m\u001b[0m\u001b[0m\n\u001b[0m",
            "\u001b[0;32m/usr/local/lib/python3.7/dist-packages/duckling/wrapper.py\u001b[0m in \u001b[0;36mparse\u001b[0;34m(self, input_str, reference_time)\u001b[0m\n\u001b[1;32m    254\u001b[0m             ]\n\u001b[1;32m    255\u001b[0m         \"\"\"\n\u001b[0;32m--> 256\u001b[0;31m         \u001b[0;32mreturn\u001b[0m \u001b[0mself\u001b[0m\u001b[0;34m.\u001b[0m\u001b[0m_parse\u001b[0m\u001b[0;34m(\u001b[0m\u001b[0minput_str\u001b[0m\u001b[0;34m,\u001b[0m \u001b[0mreference_time\u001b[0m\u001b[0;34m=\u001b[0m\u001b[0mreference_time\u001b[0m\u001b[0;34m)\u001b[0m\u001b[0;34m\u001b[0m\u001b[0;34m\u001b[0m\u001b[0m\n\u001b[0m\u001b[1;32m    257\u001b[0m \u001b[0;34m\u001b[0m\u001b[0m\n\u001b[1;32m    258\u001b[0m     \u001b[0;32mdef\u001b[0m \u001b[0mparse_time\u001b[0m\u001b[0;34m(\u001b[0m\u001b[0mself\u001b[0m\u001b[0;34m,\u001b[0m \u001b[0minput_str\u001b[0m\u001b[0;34m,\u001b[0m \u001b[0mreference_time\u001b[0m\u001b[0;34m=\u001b[0m\u001b[0;34m''\u001b[0m\u001b[0;34m)\u001b[0m\u001b[0;34m:\u001b[0m\u001b[0;34m\u001b[0m\u001b[0;34m\u001b[0m\u001b[0m\n",
            "\u001b[0;32m/usr/local/lib/python3.7/dist-packages/duckling/wrapper.py\u001b[0m in \u001b[0;36m_parse\u001b[0;34m(self, input_str, dim, reference_time)\u001b[0m\n\u001b[1;32m     62\u001b[0m         duckling_result = self.duckling.parse(\n\u001b[1;32m     63\u001b[0m             \u001b[0minput_str\u001b[0m\u001b[0;34m,\u001b[0m \u001b[0mself\u001b[0m\u001b[0;34m.\u001b[0m\u001b[0mlanguage\u001b[0m\u001b[0;34m,\u001b[0m \u001b[0mdim_filter\u001b[0m\u001b[0;34m=\u001b[0m\u001b[0mdim\u001b[0m\u001b[0;34m,\u001b[0m\u001b[0;34m\u001b[0m\u001b[0;34m\u001b[0m\u001b[0m\n\u001b[0;32m---> 64\u001b[0;31m             reference_time=reference_time)\n\u001b[0m\u001b[1;32m     65\u001b[0m         \u001b[0;32mfor\u001b[0m \u001b[0mentry\u001b[0m \u001b[0;32min\u001b[0m \u001b[0mduckling_result\u001b[0m\u001b[0;34m:\u001b[0m\u001b[0;34m\u001b[0m\u001b[0;34m\u001b[0m\u001b[0m\n\u001b[1;32m     66\u001b[0m             \u001b[0;32mif\u001b[0m \u001b[0mentry\u001b[0m\u001b[0;34m[\u001b[0m\u001b[0;34mu'dim'\u001b[0m\u001b[0;34m]\u001b[0m \u001b[0;32min\u001b[0m \u001b[0mself\u001b[0m\u001b[0;34m.\u001b[0m\u001b[0m_dims\u001b[0m\u001b[0;34m:\u001b[0m\u001b[0;34m\u001b[0m\u001b[0;34m\u001b[0m\u001b[0m\n",
            "\u001b[0;32m/usr/local/lib/python3.7/dist-packages/duckling/duckling.py\u001b[0m in \u001b[0;36mparse\u001b[0;34m(self, input_str, language, dim_filter, reference_time)\u001b[0m\n\u001b[1;32m    158\u001b[0m             duckling_result = duckling_parse.invoke(\n\u001b[1;32m    159\u001b[0m                 language, input_str, self.clojure.read(filter_str))\n\u001b[0;32m--> 160\u001b[0;31m         \u001b[0;32mreturn\u001b[0m \u001b[0mself\u001b[0m\u001b[0;34m.\u001b[0m\u001b[0m_parse_result\u001b[0m\u001b[0;34m(\u001b[0m\u001b[0mduckling_result\u001b[0m\u001b[0;34m)\u001b[0m\u001b[0;34m\u001b[0m\u001b[0;34m\u001b[0m\u001b[0m\n\u001b[0m\u001b[1;32m    161\u001b[0m \u001b[0;34m\u001b[0m\u001b[0m\n\u001b[1;32m    162\u001b[0m     \u001b[0;32mdef\u001b[0m \u001b[0m_parse_reference_time\u001b[0m\u001b[0;34m(\u001b[0m\u001b[0mself\u001b[0m\u001b[0;34m,\u001b[0m \u001b[0mreference_time\u001b[0m\u001b[0;34m)\u001b[0m\u001b[0;34m:\u001b[0m\u001b[0;34m\u001b[0m\u001b[0;34m\u001b[0m\u001b[0m\n",
            "\u001b[0;32m/usr/local/lib/python3.7/dist-packages/duckling/duckling.py\u001b[0m in \u001b[0;36m_parse_result\u001b[0;34m(self, duckling_result)\u001b[0m\n\u001b[1;32m    184\u001b[0m                 \u001b[0;32mif\u001b[0m \u001b[0mkey\u001b[0m \u001b[0;34m==\u001b[0m \u001b[0;34mu'value'\u001b[0m\u001b[0;34m:\u001b[0m\u001b[0;34m\u001b[0m\u001b[0;34m\u001b[0m\u001b[0m\n\u001b[1;32m    185\u001b[0m                     entry[key] = self._parse_dict(\n\u001b[0;32m--> 186\u001b[0;31m                         field.getValue(), entry[u'dim'])\n\u001b[0m\u001b[1;32m    187\u001b[0m                 \u001b[0;32melse\u001b[0m\u001b[0;34m:\u001b[0m\u001b[0;34m\u001b[0m\u001b[0;34m\u001b[0m\u001b[0m\n\u001b[1;32m    188\u001b[0m                     \u001b[0mentry\u001b[0m\u001b[0;34m[\u001b[0m\u001b[0mkey\u001b[0m\u001b[0;34m]\u001b[0m \u001b[0;34m=\u001b[0m \u001b[0m_functions\u001b[0m\u001b[0;34m[\u001b[0m\u001b[0mkey\u001b[0m\u001b[0;34m]\u001b[0m\u001b[0;34m(\u001b[0m\u001b[0mfield\u001b[0m\u001b[0;34m.\u001b[0m\u001b[0mgetValue\u001b[0m\u001b[0;34m(\u001b[0m\u001b[0;34m)\u001b[0m\u001b[0;34m)\u001b[0m\u001b[0;34m\u001b[0m\u001b[0;34m\u001b[0m\u001b[0m\n",
            "\u001b[0;32m/usr/local/lib/python3.7/dist-packages/duckling/duckling.py\u001b[0m in \u001b[0;36m_parse_dict\u001b[0;34m(self, java_dict, dim)\u001b[0m\n\u001b[1;32m    218\u001b[0m             \u001b[0mkey\u001b[0m \u001b[0;34m=\u001b[0m \u001b[0mfield\u001b[0m\u001b[0;34m.\u001b[0m\u001b[0mgetKey\u001b[0m\u001b[0;34m(\u001b[0m\u001b[0;34m)\u001b[0m\u001b[0;34m.\u001b[0m\u001b[0mtoString\u001b[0m\u001b[0;34m(\u001b[0m\u001b[0;34m)\u001b[0m\u001b[0;34m[\u001b[0m\u001b[0;36m1\u001b[0m\u001b[0;34m:\u001b[0m\u001b[0;34m]\u001b[0m\u001b[0;34m\u001b[0m\u001b[0;34m\u001b[0m\u001b[0m\n\u001b[1;32m    219\u001b[0m             \u001b[0;32mif\u001b[0m \u001b[0mkey\u001b[0m \u001b[0;32min\u001b[0m \u001b[0m_functions_with_dim\u001b[0m\u001b[0;34m.\u001b[0m\u001b[0mkeys\u001b[0m\u001b[0;34m(\u001b[0m\u001b[0;34m)\u001b[0m\u001b[0;34m:\u001b[0m\u001b[0;34m\u001b[0m\u001b[0;34m\u001b[0m\u001b[0m\n\u001b[0;32m--> 220\u001b[0;31m                 \u001b[0mresult\u001b[0m\u001b[0;34m[\u001b[0m\u001b[0mkey\u001b[0m\u001b[0;34m]\u001b[0m \u001b[0;34m=\u001b[0m \u001b[0m_functions_with_dim\u001b[0m\u001b[0;34m[\u001b[0m\u001b[0mkey\u001b[0m\u001b[0;34m]\u001b[0m\u001b[0;34m(\u001b[0m\u001b[0mfield\u001b[0m\u001b[0;34m.\u001b[0m\u001b[0mgetValue\u001b[0m\u001b[0;34m(\u001b[0m\u001b[0;34m)\u001b[0m\u001b[0;34m,\u001b[0m \u001b[0mdim\u001b[0m\u001b[0;34m)\u001b[0m\u001b[0;34m\u001b[0m\u001b[0;34m\u001b[0m\u001b[0m\n\u001b[0m\u001b[1;32m    221\u001b[0m             \u001b[0;32melse\u001b[0m\u001b[0;34m:\u001b[0m\u001b[0;34m\u001b[0m\u001b[0;34m\u001b[0m\u001b[0m\n\u001b[1;32m    222\u001b[0m                 \u001b[0mresult\u001b[0m\u001b[0;34m[\u001b[0m\u001b[0mkey\u001b[0m\u001b[0;34m]\u001b[0m \u001b[0;34m=\u001b[0m \u001b[0m_functions\u001b[0m\u001b[0;34m[\u001b[0m\u001b[0mkey\u001b[0m\u001b[0;34m]\u001b[0m\u001b[0;34m(\u001b[0m\u001b[0mfield\u001b[0m\u001b[0;34m.\u001b[0m\u001b[0mgetValue\u001b[0m\u001b[0;34m(\u001b[0m\u001b[0;34m)\u001b[0m\u001b[0;34m)\u001b[0m\u001b[0;34m\u001b[0m\u001b[0;34m\u001b[0m\u001b[0m\n",
            "\u001b[0;32m/usr/local/lib/python3.7/dist-packages/duckling/duckling.py\u001b[0m in \u001b[0;36m_parse_value\u001b[0;34m(self, java_value, dim)\u001b[0m\n\u001b[1;32m    258\u001b[0m             \u001b[0;32mreturn\u001b[0m \u001b[0mself\u001b[0m\u001b[0;34m.\u001b[0m\u001b[0m_parse_string\u001b[0m\u001b[0;34m(\u001b[0m\u001b[0mjava_value\u001b[0m\u001b[0;34m)\u001b[0m\u001b[0;34m\u001b[0m\u001b[0;34m\u001b[0m\u001b[0m\n\u001b[1;32m    259\u001b[0m         \u001b[0;32mtry\u001b[0m\u001b[0;34m:\u001b[0m\u001b[0;34m\u001b[0m\u001b[0;34m\u001b[0m\u001b[0m\n\u001b[0;32m--> 260\u001b[0;31m             \u001b[0;32mreturn\u001b[0m \u001b[0m_dims\u001b[0m\u001b[0;34m[\u001b[0m\u001b[0mdim\u001b[0m\u001b[0;34m]\u001b[0m\u001b[0;34m(\u001b[0m\u001b[0mjava_value\u001b[0m\u001b[0;34m)\u001b[0m\u001b[0;34m\u001b[0m\u001b[0;34m\u001b[0m\u001b[0m\n\u001b[0m\u001b[1;32m    261\u001b[0m         \u001b[0;32mexcept\u001b[0m \u001b[0mAttributeError\u001b[0m\u001b[0;34m:\u001b[0m\u001b[0;34m\u001b[0m\u001b[0;34m\u001b[0m\u001b[0m\n\u001b[1;32m    262\u001b[0m             \u001b[0;32mreturn\u001b[0m \u001b[0;34m'ERROR: {msg}'\u001b[0m\u001b[0;34m.\u001b[0m\u001b[0mformat\u001b[0m\u001b[0;34m(\u001b[0m\u001b[0mmsg\u001b[0m\u001b[0;34m=\u001b[0m\u001b[0mself\u001b[0m\u001b[0;34m.\u001b[0m\u001b[0m_parse_string\u001b[0m\u001b[0;34m(\u001b[0m\u001b[0mjava_value\u001b[0m\u001b[0;34m)\u001b[0m\u001b[0;34m)\u001b[0m\u001b[0;34m\u001b[0m\u001b[0;34m\u001b[0m\u001b[0m\n",
            "\u001b[0;32m/usr/local/lib/python3.7/dist-packages/duckling/duckling.py\u001b[0m in \u001b[0;36m_parse_float\u001b[0;34m(self, java_number)\u001b[0m\n\u001b[1;32m    230\u001b[0m \u001b[0;34m\u001b[0m\u001b[0m\n\u001b[1;32m    231\u001b[0m     \u001b[0;32mdef\u001b[0m \u001b[0m_parse_float\u001b[0m\u001b[0;34m(\u001b[0m\u001b[0mself\u001b[0m\u001b[0;34m,\u001b[0m \u001b[0mjava_number\u001b[0m\u001b[0;34m)\u001b[0m\u001b[0;34m:\u001b[0m\u001b[0;34m\u001b[0m\u001b[0;34m\u001b[0m\u001b[0m\n\u001b[0;32m--> 232\u001b[0;31m         \u001b[0;32mreturn\u001b[0m \u001b[0mfloat\u001b[0m\u001b[0;34m(\u001b[0m\u001b[0mjava_number\u001b[0m\u001b[0;34m.\u001b[0m\u001b[0mtoString\u001b[0m\u001b[0;34m(\u001b[0m\u001b[0;34m)\u001b[0m\u001b[0;34m)\u001b[0m\u001b[0;34m\u001b[0m\u001b[0;34m\u001b[0m\u001b[0m\n\u001b[0m\u001b[1;32m    233\u001b[0m \u001b[0;34m\u001b[0m\u001b[0m\n\u001b[1;32m    234\u001b[0m     \u001b[0;32mdef\u001b[0m \u001b[0m_parse_int\u001b[0m\u001b[0;34m(\u001b[0m\u001b[0mself\u001b[0m\u001b[0;34m,\u001b[0m \u001b[0mjava_number\u001b[0m\u001b[0;34m)\u001b[0m\u001b[0;34m:\u001b[0m\u001b[0;34m\u001b[0m\u001b[0;34m\u001b[0m\u001b[0m\n",
            "\u001b[0;31mTypeError\u001b[0m: float() argument must be a string or a number, not 'java.lang.String'"
          ]
        }
      ]
    },
    {
      "cell_type": "markdown",
      "metadata": {
        "id": "qR8vU3PZq6Af"
      },
      "source": [
        ""
      ]
    },
    {
      "cell_type": "code",
      "metadata": {
        "id": "Q5-kUul_qPG_"
      },
      "source": [
        ""
      ],
      "execution_count": null,
      "outputs": []
    }
  ]
}