{
  "nbformat": 4,
  "nbformat_minor": 0,
  "metadata": {
    "colab": {
      "name": "Keyphrase_Extraction_Spacy.ipynb",
      "provenance": [],
      "authorship_tag": "ABX9TyPl+PwQKYPdOHyhld2MVhct",
      "include_colab_link": true
    },
    "kernelspec": {
      "name": "python3",
      "display_name": "Python 3"
    }
  },
  "cells": [
    {
      "cell_type": "markdown",
      "metadata": {
        "id": "view-in-github",
        "colab_type": "text"
      },
      "source": [
        "<a href=\"https://colab.research.google.com/github/anirbansen3027/NLP_Basics/blob/main/Keyphrase_Extraction_Spacy.ipynb\" target=\"_parent\"><img src=\"https://colab.research.google.com/assets/colab-badge.svg\" alt=\"Open In Colab\"/></a>"
      ]
    },
    {
      "cell_type": "code",
      "metadata": {
        "id": "jDbRQPNlAy5U"
      },
      "source": [
        "!pip install textacy -q"
      ],
      "execution_count": 5,
      "outputs": []
    },
    {
      "cell_type": "code",
      "metadata": {
        "id": "LIvzsfGRAalC"
      },
      "source": [
        "import spacy\n",
        "import textacy.ke\n",
        "from textacy import *"
      ],
      "execution_count": 6,
      "outputs": []
    },
    {
      "cell_type": "code",
      "metadata": {
        "id": "CRZALR7UAz6G"
      },
      "source": [
        "en = textacy.load_spacy_lang(\"en_core_web_sm\")"
      ],
      "execution_count": 7,
      "outputs": []
    },
    {
      "cell_type": "code",
      "metadata": {
        "id": "v_UvhvXHBbjh"
      },
      "source": [
        "my_text = open(\"/content/nlphistory.txt\").read()"
      ],
      "execution_count": 8,
      "outputs": []
    },
    {
      "cell_type": "code",
      "metadata": {
        "id": "40BLEN8nCtkl"
      },
      "source": [
        "doc = textacy.make_spacy_doc(my_text, lang = en)"
      ],
      "execution_count": 9,
      "outputs": []
    },
    {
      "cell_type": "code",
      "metadata": {
        "colab": {
          "base_uri": "https://localhost:8080/"
        },
        "id": "YlOWjf9YDDAj",
        "outputId": "a29cd10c-dc4e-407c-c8e8-184006a030e1"
      },
      "source": [
        "terms = [term for term, weight in textacy.ke.textrank(doc)]\n",
        "terms[:5]"
      ],
      "execution_count": 10,
      "outputs": [
        {
          "output_type": "execute_result",
          "data": {
            "text/plain": [
              "['successful natural language processing system',\n",
              " 'statistical machine translation system',\n",
              " 'natural language system',\n",
              " 'statistical natural language processing',\n",
              " 'natural language task']"
            ]
          },
          "metadata": {
            "tags": []
          },
          "execution_count": 10
        }
      ]
    },
    {
      "cell_type": "code",
      "metadata": {
        "colab": {
          "base_uri": "https://localhost:8080/"
        },
        "id": "T0jO3QNYDWaE",
        "outputId": "2d2562d1-4b9d-4ca9-9976-c451463fec51"
      },
      "source": [
        "terms = [term for term, weight in textacy.ke.sgrank(doc)]\n",
        "terms[:5]"
      ],
      "execution_count": 11,
      "outputs": [
        {
          "output_type": "execute_result",
          "data": {
            "text/plain": [
              "['natural language processing system',\n",
              " 'statistical machine translation',\n",
              " 'research',\n",
              " 'late 1980',\n",
              " 'early']"
            ]
          },
          "metadata": {
            "tags": []
          },
          "execution_count": 11
        }
      ]
    },
    {
      "cell_type": "code",
      "metadata": {
        "colab": {
          "base_uri": "https://localhost:8080/"
        },
        "id": "sIf4DO7WFGO1",
        "outputId": "9eb39bf6-9d1d-4f29-c81b-e69f5941e877"
      },
      "source": [
        "textacy.ke.utils.aggregate_term_variants(set(terms))"
      ],
      "execution_count": 12,
      "outputs": [
        {
          "output_type": "execute_result",
          "data": {
            "text/plain": [
              "[{'natural language processing system'},\n",
              " {'statistical machine translation'},\n",
              " {'statistical model'},\n",
              " {'late 1980'},\n",
              " {'research'},\n",
              " {'example'},\n",
              " {'world'},\n",
              " {'early'},\n",
              " {'ELIZA'},\n",
              " {'real'}]"
            ]
          },
          "metadata": {
            "tags": []
          },
          "execution_count": 12
        }
      ]
    }
  ]
}